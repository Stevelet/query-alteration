{
 "cells": [
  {
   "cell_type": "markdown",
   "metadata": {},
   "source": [
    "# Introduction to PyTerrier\n",
    "__Part 1: Setup__\n",
    "\n",
    "[Terrier](http://terrier.org) is an open-source information retrieval platform aimed at reserach and experimentation. We'll use [PyTerrier](https://pyterrier.readthedocs.io/), which provides a Python API for Terrier, in this lecture. This series of notebooks gives a brief introduction to PyTerrier.\n",
    "\n",
    "## Installation\n",
    "PyTerrier can be installed using `pip`:"
   ]
  },
  {
   "cell_type": "code",
   "execution_count": 1,
   "metadata": {
    "vscode": {
     "languageId": "shellscript"
    }
   },
   "outputs": [
    {
     "name": "stdout",
     "output_type": "stream",
     "text": [
      "Requirement already satisfied: python-terrier in /home/steve/.local/lib/python3.8/site-packages (0.10.0)\n",
      "Requirement already satisfied: tqdm in /home/steve/.local/lib/python3.8/site-packages (from python-terrier) (4.66.2)\n",
      "Requirement already satisfied: dill in /home/steve/.local/lib/python3.8/site-packages (from python-terrier) (0.3.8)\n",
      "Requirement already satisfied: deprecated in /usr/lib/python3/dist-packages (from python-terrier) (1.2.7)\n",
      "Requirement already satisfied: nptyping==1.4.4 in /home/steve/.local/lib/python3.8/site-packages (from python-terrier) (1.4.4)\n",
      "Requirement already satisfied: more-itertools in /usr/lib/python3/dist-packages (from python-terrier) (4.2.0)\n",
      "Requirement already satisfied: statsmodels in /home/steve/.local/lib/python3.8/site-packages (from python-terrier) (0.14.1)\n",
      "Requirement already satisfied: ir-datasets>=0.3.2 in /home/steve/.local/lib/python3.8/site-packages (from python-terrier) (0.5.6)\n",
      "Requirement already satisfied: requests in /home/steve/.local/lib/python3.8/site-packages (from python-terrier) (2.31.0)\n",
      "Requirement already satisfied: chest in /home/steve/.local/lib/python3.8/site-packages (from python-terrier) (0.2.3)\n",
      "Requirement already satisfied: matchpy in /home/steve/.local/lib/python3.8/site-packages (from python-terrier) (0.5.5)\n",
      "Requirement already satisfied: joblib in /home/steve/.local/lib/python3.8/site-packages (from python-terrier) (1.3.2)\n",
      "Requirement already satisfied: ir-measures>=0.3.1 in /home/steve/.local/lib/python3.8/site-packages (from python-terrier) (0.3.3)\n",
      "Requirement already satisfied: numpy in /home/steve/.local/lib/python3.8/site-packages (from python-terrier) (1.24.4)\n",
      "Requirement already satisfied: pandas in /home/steve/.local/lib/python3.8/site-packages (from python-terrier) (2.0.3)\n",
      "Requirement already satisfied: scipy in /home/steve/.local/lib/python3.8/site-packages (from python-terrier) (1.10.1)\n",
      "Requirement already satisfied: pyjnius>=1.4.2 in /home/steve/.local/lib/python3.8/site-packages (from python-terrier) (1.6.1)\n",
      "Requirement already satisfied: wget in /home/steve/.local/lib/python3.8/site-packages (from python-terrier) (3.2)\n",
      "Requirement already satisfied: scikit-learn in /home/steve/.local/lib/python3.8/site-packages (from python-terrier) (1.3.2)\n",
      "Requirement already satisfied: pytrec-eval-terrier>=0.5.3 in /home/steve/.local/lib/python3.8/site-packages (from python-terrier) (0.5.6)\n",
      "Requirement already satisfied: jinja2 in /home/steve/.local/lib/python3.8/site-packages (from python-terrier) (3.1.3)\n",
      "Requirement already satisfied: typish>=1.7.0 in /home/steve/.local/lib/python3.8/site-packages (from nptyping==1.4.4->python-terrier) (1.9.3)\n",
      "Requirement already satisfied: patsy>=0.5.4 in /home/steve/.local/lib/python3.8/site-packages (from statsmodels->python-terrier) (0.5.6)\n",
      "Requirement already satisfied: packaging>=21.3 in /home/steve/.local/lib/python3.8/site-packages (from statsmodels->python-terrier) (23.2)\n",
      "Requirement already satisfied: pyyaml>=5.3.1 in /usr/lib/python3/dist-packages (from ir-datasets>=0.3.2->python-terrier) (5.3.1)\n",
      "Requirement already satisfied: ijson>=3.1.3 in /home/steve/.local/lib/python3.8/site-packages (from ir-datasets>=0.3.2->python-terrier) (3.2.3)\n",
      "Requirement already satisfied: beautifulsoup4>=4.4.1 in /home/steve/.local/lib/python3.8/site-packages (from ir-datasets>=0.3.2->python-terrier) (4.12.3)\n",
      "Requirement already satisfied: warc3-wet-clueweb09>=0.2.5 in /home/steve/.local/lib/python3.8/site-packages (from ir-datasets>=0.3.2->python-terrier) (0.2.5)\n",
      "Requirement already satisfied: pyautocorpus>=0.1.1 in /home/steve/.local/lib/python3.8/site-packages (from ir-datasets>=0.3.2->python-terrier) (0.1.12)\n",
      "Requirement already satisfied: trec-car-tools>=2.5.4 in /home/steve/.local/lib/python3.8/site-packages (from ir-datasets>=0.3.2->python-terrier) (2.6)\n",
      "Requirement already satisfied: warc3-wet>=0.2.3 in /home/steve/.local/lib/python3.8/site-packages (from ir-datasets>=0.3.2->python-terrier) (0.2.3)\n",
      "Requirement already satisfied: zlib-state>=0.1.3 in /home/steve/.local/lib/python3.8/site-packages (from ir-datasets>=0.3.2->python-terrier) (0.1.6)\n",
      "Requirement already satisfied: unlzw3>=0.2.1 in /home/steve/.local/lib/python3.8/site-packages (from ir-datasets>=0.3.2->python-terrier) (0.2.2)\n",
      "Requirement already satisfied: lxml>=4.5.2 in /home/steve/.local/lib/python3.8/site-packages (from ir-datasets>=0.3.2->python-terrier) (5.1.0)\n",
      "Requirement already satisfied: inscriptis>=2.2.0 in /home/steve/.local/lib/python3.8/site-packages (from ir-datasets>=0.3.2->python-terrier) (2.4.0.1)\n",
      "Requirement already satisfied: lz4>=3.1.10 in /home/steve/.local/lib/python3.8/site-packages (from ir-datasets>=0.3.2->python-terrier) (4.3.3)\n",
      "Requirement already satisfied: urllib3<3,>=1.21.1 in /usr/lib/python3/dist-packages (from requests->python-terrier) (1.25.8)\n",
      "Requirement already satisfied: certifi>=2017.4.17 in /usr/lib/python3/dist-packages (from requests->python-terrier) (2019.11.28)\n",
      "Requirement already satisfied: idna<4,>=2.5 in /usr/lib/python3/dist-packages (from requests->python-terrier) (2.8)\n",
      "Requirement already satisfied: charset-normalizer<4,>=2 in /home/steve/.local/lib/python3.8/site-packages (from requests->python-terrier) (3.3.2)\n",
      "Requirement already satisfied: heapdict in /home/steve/.local/lib/python3.8/site-packages (from chest->python-terrier) (1.0.1)\n",
      "Requirement already satisfied: multiset<3.0,>=2.0 in /home/steve/.local/lib/python3.8/site-packages (from matchpy->python-terrier) (2.1.1)\n",
      "Requirement already satisfied: cwl-eval>=1.0.10 in /home/steve/.local/lib/python3.8/site-packages (from ir-measures>=0.3.1->python-terrier) (1.0.12)\n",
      "Requirement already satisfied: python-dateutil>=2.8.2 in /home/steve/.local/lib/python3.8/site-packages (from pandas->python-terrier) (2.8.2)\n",
      "Requirement already satisfied: pytz>=2020.1 in /home/steve/.local/lib/python3.8/site-packages (from pandas->python-terrier) (2024.1)\n",
      "Requirement already satisfied: tzdata>=2022.1 in /home/steve/.local/lib/python3.8/site-packages (from pandas->python-terrier) (2024.1)\n",
      "Requirement already satisfied: threadpoolctl>=2.0.0 in /home/steve/.local/lib/python3.8/site-packages (from scikit-learn->python-terrier) (3.3.0)\n",
      "Requirement already satisfied: MarkupSafe>=2.0 in /home/steve/.local/lib/python3.8/site-packages (from jinja2->python-terrier) (2.1.5)\n",
      "Requirement already satisfied: six in /usr/lib/python3/dist-packages (from patsy>=0.5.4->statsmodels->python-terrier) (1.14.0)\n",
      "Requirement already satisfied: soupsieve>1.2 in /home/steve/.local/lib/python3.8/site-packages (from beautifulsoup4>=4.4.1->ir-datasets>=0.3.2->python-terrier) (2.5)\n",
      "Requirement already satisfied: cbor>=1.0.0 in /home/steve/.local/lib/python3.8/site-packages (from trec-car-tools>=2.5.4->ir-datasets>=0.3.2->python-terrier) (1.0.0)\n",
      "Note: you may need to restart the kernel to use updated packages.\n"
     ]
    }
   ],
   "source": [
    "pip install python-terrier"
   ]
  },
  {
   "cell_type": "markdown",
   "metadata": {},
   "source": [
    "You may want to consider using virtual environments, such as [`venv`](https://docs.python.org/3/library/venv.html) or [`conda`](https://www.anaconda.com/download). You'll also need an up-to-date version of the [Java development kit](https://www.oracle.com/java/technologies/downloads/) installed and the `JAVA_HOME` environment variable set. More detailed installation instructions and troubleshooting can be found [here](https://pyterrier.readthedocs.io/en/latest/installation.html).\n",
    "\n",
    "Now you should be able to import `pyterrier`:"
   ]
  },
  {
   "cell_type": "code",
   "execution_count": 2,
   "metadata": {},
   "outputs": [],
   "source": [
    "import pyterrier as pt"
   ]
  },
  {
   "cell_type": "markdown",
   "metadata": {},
   "source": [
    "## Configuration\n",
    "As PyTerrier uses Terrier under the hood, we need to initially load the corresponding Java package. In addition, we can set PyTerrier up to show progress bars in Jupyter notebooks correctly:"
   ]
  },
  {
   "cell_type": "code",
   "execution_count": 3,
   "metadata": {},
   "outputs": [
    {
     "name": "stderr",
     "output_type": "stream",
     "text": [
      "PyTerrier 0.10.0 has loaded Terrier 5.8 (built by craigm on 2023-11-01 18:05) and terrier-helper 0.0.8\n",
      "\n"
     ]
    }
   ],
   "source": [
    "if not pt.started():\n",
    "    pt.init(tqdm=\"notebook\")"
   ]
  },
  {
   "cell_type": "markdown",
   "metadata": {},
   "source": [
    "## A test run\n",
    "Time to test our setup! PyTerrier provides support for loading and indexing a large number of IR datasets (more on that later). Let's load the [ANTIQUE](https://arxiv.org/abs/1905.08957) dataset:"
   ]
  },
  {
   "cell_type": "code",
   "execution_count": 4,
   "metadata": {},
   "outputs": [],
   "source": [
    "dataset = pt.get_dataset(\"irds:antique\")"
   ]
  },
  {
   "cell_type": "markdown",
   "metadata": {},
   "source": [
    "Now we can print one of the documents in the corpus:"
   ]
  },
  {
   "cell_type": "code",
   "execution_count": 5,
   "metadata": {},
   "outputs": [
    {
     "data": {
      "application/vnd.jupyter.widget-view+json": {
       "model_id": "1e47c411d08c4e4d87df00834428134c",
       "version_major": 2,
       "version_minor": 0
      },
      "text/plain": [
       "antique documents:   0%|          | 0/403666 [00:00<?, ?it/s]"
      ]
     },
     "metadata": {},
     "output_type": "display_data"
    },
    {
     "name": "stderr",
     "output_type": "stream",
     "text": [
      "[INFO] Please confirm you agree to the authors' data usage agreement found at <https://ciir.cs.umass.edu/downloads/Antique/readme.txt>\n",
      "[INFO] If you have a local copy of https://ciir.cs.umass.edu/downloads/Antique/antique-collection.txt, you can symlink it here to avoid downloading it again: /home/steve/.ir_datasets/downloads/684f7015aff377062a758e478476aac8\n",
      "[INFO] [starting] https://ciir.cs.umass.edu/downloads/Antique/antique-collection.txt\n",
      "\n",
      "https://ciir.cs.umass.edu/downloads/Antique/antique-collection.txt: 0.0%| 0.00/93.6M [00:00<?, ?B/s]\u001b[A\n",
      "https://ciir.cs.umass.edu/downloads/Antique/antique-collection.txt: 0.0%| 24.6k/93.6M [00:00<07:15, 215kB/s]\u001b[A\n",
      "https://ciir.cs.umass.edu/downloads/Antique/antique-collection.txt: 0.1%| 73.7k/93.6M [00:00<04:36, 338kB/s]\u001b[A\n",
      "https://ciir.cs.umass.edu/downloads/Antique/antique-collection.txt: 0.2%| 156k/93.6M [00:00<03:13, 483kB/s] \u001b[A\n",
      "https://ciir.cs.umass.edu/downloads/Antique/antique-collection.txt: 0.3%| 287k/93.6M [00:00<02:18, 676kB/s]\u001b[A\n",
      "https://ciir.cs.umass.edu/downloads/Antique/antique-collection.txt: 0.6%| 582k/93.6M [00:00<01:24, 1.10MB/s]\u001b[A\n",
      "https://ciir.cs.umass.edu/downloads/Antique/antique-collection.txt: 0.9%| 877k/93.6M [00:00<01:15, 1.22MB/s]\u001b[A\n",
      "https://ciir.cs.umass.edu/downloads/Antique/antique-collection.txt: 1.6%| 1.52M/93.6M [00:00<00:50, 1.81MB/s]\u001b[A\n",
      "https://ciir.cs.umass.edu/downloads/Antique/antique-collection.txt: 2.3%| 2.15M/93.6M [00:01<00:45, 2.02MB/s]\u001b[A\n",
      "https://ciir.cs.umass.edu/downloads/Antique/antique-collection.txt: 3.0%| 2.84M/93.6M [00:01<00:37, 2.42MB/s]\u001b[A\n",
      "https://ciir.cs.umass.edu/downloads/Antique/antique-collection.txt: 3.8%| 3.53M/93.6M [00:01<00:37, 2.41MB/s]\u001b[A\n",
      "https://ciir.cs.umass.edu/downloads/Antique/antique-collection.txt: 4.5%| 4.22M/93.6M [00:01<00:37, 2.37MB/s]\u001b[A\n",
      "https://ciir.cs.umass.edu/downloads/Antique/antique-collection.txt: 5.2%| 4.91M/93.6M [00:02<00:37, 2.34MB/s]\u001b[A\n",
      "https://ciir.cs.umass.edu/downloads/Antique/antique-collection.txt: 6.0%| 5.60M/93.6M [00:02<00:37, 2.37MB/s]\u001b[A\n",
      "https://ciir.cs.umass.edu/downloads/Antique/antique-collection.txt: 6.7%| 6.28M/93.6M [00:02<00:38, 2.28MB/s]\u001b[A\n",
      "https://ciir.cs.umass.edu/downloads/Antique/antique-collection.txt: 7.4%| 6.97M/93.6M [00:03<00:37, 2.30MB/s]\u001b[A\n",
      "https://ciir.cs.umass.edu/downloads/Antique/antique-collection.txt: 8.2%| 7.66M/93.6M [00:03<00:38, 2.25MB/s]\u001b[A\n",
      "https://ciir.cs.umass.edu/downloads/Antique/antique-collection.txt: 8.9%| 8.35M/93.6M [00:03<00:36, 2.31MB/s]\u001b[A\n",
      "https://ciir.cs.umass.edu/downloads/Antique/antique-collection.txt: 9.7%| 9.04M/93.6M [00:03<00:37, 2.28MB/s]\u001b[A\n",
      "https://ciir.cs.umass.edu/downloads/Antique/antique-collection.txt: 10.4%| 9.72M/93.6M [00:04<00:37, 2.25MB/s]\u001b[A\n",
      "https://ciir.cs.umass.edu/downloads/Antique/antique-collection.txt: 11.1%| 10.4M/93.6M [00:04<00:36, 2.26MB/s]\u001b[A\n",
      "https://ciir.cs.umass.edu/downloads/Antique/antique-collection.txt: 11.9%| 11.1M/93.6M [00:04<00:37, 2.22MB/s]\u001b[A\n",
      "https://ciir.cs.umass.edu/downloads/Antique/antique-collection.txt: 12.6%| 11.8M/93.6M [00:05<00:37, 2.20MB/s]\u001b[A\n",
      "https://ciir.cs.umass.edu/downloads/Antique/antique-collection.txt: 13.3%| 12.5M/93.6M [00:05<00:37, 2.18MB/s]\u001b[A\n",
      "https://ciir.cs.umass.edu/downloads/Antique/antique-collection.txt: 14.1%| 13.2M/93.6M [00:06<00:37, 2.17MB/s]\u001b[A\n",
      "https://ciir.cs.umass.edu/downloads/Antique/antique-collection.txt: 14.8%| 13.9M/93.6M [00:06<00:37, 2.15MB/s]\u001b[A\n",
      "https://ciir.cs.umass.edu/downloads/Antique/antique-collection.txt: 15.5%| 14.5M/93.6M [00:06<00:36, 2.14MB/s]\u001b[A\n",
      "https://ciir.cs.umass.edu/downloads/Antique/antique-collection.txt: 16.3%| 15.2M/93.6M [00:07<00:36, 2.13MB/s]\u001b[A\n",
      "https://ciir.cs.umass.edu/downloads/Antique/antique-collection.txt: 17.0%| 15.9M/93.6M [00:07<00:36, 2.12MB/s]\u001b[A\n",
      "https://ciir.cs.umass.edu/downloads/Antique/antique-collection.txt: 17.7%| 16.6M/93.6M [00:07<00:36, 2.12MB/s]\u001b[A\n",
      "https://ciir.cs.umass.edu/downloads/Antique/antique-collection.txt: 18.5%| 17.3M/93.6M [00:08<00:36, 2.11MB/s]\u001b[A\n",
      "https://ciir.cs.umass.edu/downloads/Antique/antique-collection.txt: 19.2%| 18.0M/93.6M [00:08<00:35, 2.12MB/s]\u001b[A\n",
      "https://ciir.cs.umass.edu/downloads/Antique/antique-collection.txt: 19.9%| 18.7M/93.6M [00:08<00:35, 2.08MB/s]\u001b[A\n",
      "https://ciir.cs.umass.edu/downloads/Antique/antique-collection.txt: 20.7%| 19.4M/93.6M [00:09<00:35, 2.06MB/s]\u001b[A\n",
      "https://ciir.cs.umass.edu/downloads/Antique/antique-collection.txt: 21.4%| 20.0M/93.6M [00:09<00:36, 2.03MB/s]\u001b[A\n",
      "https://ciir.cs.umass.edu/downloads/Antique/antique-collection.txt: 22.1%| 20.7M/93.6M [00:10<00:36, 2.01MB/s]\u001b[A\n",
      "https://ciir.cs.umass.edu/downloads/Antique/antique-collection.txt: 22.9%| 21.4M/93.6M [00:10<00:36, 1.97MB/s]\u001b[A\n",
      "https://ciir.cs.umass.edu/downloads/Antique/antique-collection.txt: 23.6%| 22.1M/93.6M [00:11<00:37, 1.90MB/s]\u001b[A\n",
      "https://ciir.cs.umass.edu/downloads/Antique/antique-collection.txt: 24.4%| 22.8M/93.6M [00:12<00:38, 1.82MB/s]\u001b[A\n",
      "https://ciir.cs.umass.edu/downloads/Antique/antique-collection.txt: 25.1%| 23.5M/93.6M [00:13<00:39, 1.77MB/s]\u001b[A\n",
      "https://ciir.cs.umass.edu/downloads/Antique/antique-collection.txt: 25.8%| 24.2M/93.6M [00:14<00:40, 1.72MB/s]\u001b[A\n",
      "https://ciir.cs.umass.edu/downloads/Antique/antique-collection.txt: 26.6%| 24.9M/93.6M [00:14<00:40, 1.68MB/s]\u001b[A\n",
      "https://ciir.cs.umass.edu/downloads/Antique/antique-collection.txt: 27.3%| 25.6M/93.6M [00:15<00:41, 1.63MB/s]\u001b[A\n",
      "https://ciir.cs.umass.edu/downloads/Antique/antique-collection.txt: 28.0%| 26.2M/93.6M [00:16<00:42, 1.59MB/s]\u001b[A\n",
      "https://ciir.cs.umass.edu/downloads/Antique/antique-collection.txt: 28.8%| 26.9M/93.6M [00:17<00:42, 1.57MB/s]\u001b[A\n",
      "https://ciir.cs.umass.edu/downloads/Antique/antique-collection.txt: 29.5%| 27.6M/93.6M [00:17<00:42, 1.54MB/s]\u001b[A\n",
      "https://ciir.cs.umass.edu/downloads/Antique/antique-collection.txt: 30.2%| 28.3M/93.6M [00:18<00:42, 1.52MB/s]\u001b[A\n",
      "https://ciir.cs.umass.edu/downloads/Antique/antique-collection.txt: 31.0%| 29.0M/93.6M [00:19<00:43, 1.50MB/s]\u001b[A\n",
      "https://ciir.cs.umass.edu/downloads/Antique/antique-collection.txt: 31.7%| 29.7M/93.6M [00:19<00:43, 1.48MB/s]\u001b[A\n",
      "https://ciir.cs.umass.edu/downloads/Antique/antique-collection.txt: 32.4%| 30.4M/93.6M [00:20<00:42, 1.47MB/s]\u001b[A\n",
      "https://ciir.cs.umass.edu/downloads/Antique/antique-collection.txt: 33.2%| 31.1M/93.6M [00:21<00:42, 1.46MB/s]\u001b[A\n",
      "https://ciir.cs.umass.edu/downloads/Antique/antique-collection.txt: 33.9%| 31.7M/93.6M [00:21<00:42, 1.45MB/s]\u001b[A\n",
      "https://ciir.cs.umass.edu/downloads/Antique/antique-collection.txt: 34.6%| 32.4M/93.6M [00:22<00:42, 1.45MB/s]\u001b[A\n",
      "https://ciir.cs.umass.edu/downloads/Antique/antique-collection.txt: 35.4%| 33.1M/93.6M [00:23<00:42, 1.43MB/s]\u001b[A\n",
      "https://ciir.cs.umass.edu/downloads/Antique/antique-collection.txt: 36.1%| 33.8M/93.6M [00:23<00:41, 1.42MB/s]\u001b[A\n",
      "https://ciir.cs.umass.edu/downloads/Antique/antique-collection.txt: 36.9%| 34.5M/93.6M [00:24<00:41, 1.42MB/s]\u001b[A\n",
      "https://ciir.cs.umass.edu/downloads/Antique/antique-collection.txt: 37.6%| 35.2M/93.6M [00:24<00:41, 1.41MB/s]\u001b[A\n",
      "https://ciir.cs.umass.edu/downloads/Antique/antique-collection.txt: 38.3%| 35.9M/93.6M [00:25<00:40, 1.41MB/s]\u001b[A\n",
      "https://ciir.cs.umass.edu/downloads/Antique/antique-collection.txt: 39.1%| 36.6M/93.6M [00:25<00:40, 1.41MB/s]\u001b[A\n",
      "https://ciir.cs.umass.edu/downloads/Antique/antique-collection.txt: 39.8%| 37.2M/93.6M [00:26<00:40, 1.40MB/s]\u001b[A\n",
      "https://ciir.cs.umass.edu/downloads/Antique/antique-collection.txt: 40.5%| 37.9M/93.6M [00:27<00:39, 1.40MB/s]\u001b[A\n",
      "https://ciir.cs.umass.edu/downloads/Antique/antique-collection.txt: 41.3%| 38.6M/93.6M [00:27<00:39, 1.39MB/s]\u001b[A\n",
      "https://ciir.cs.umass.edu/downloads/Antique/antique-collection.txt: 42.0%| 39.3M/93.6M [00:28<00:39, 1.39MB/s]\u001b[A\n",
      "https://ciir.cs.umass.edu/downloads/Antique/antique-collection.txt: 42.7%| 40.0M/93.6M [00:28<00:38, 1.39MB/s]\u001b[A\n",
      "https://ciir.cs.umass.edu/downloads/Antique/antique-collection.txt: 43.5%| 40.7M/93.6M [00:29<00:38, 1.39MB/s]\u001b[A\n",
      "https://ciir.cs.umass.edu/downloads/Antique/antique-collection.txt: 44.2%| 41.4M/93.6M [00:29<00:37, 1.38MB/s]\u001b[A\n",
      "https://ciir.cs.umass.edu/downloads/Antique/antique-collection.txt: 44.9%| 42.1M/93.6M [00:30<00:37, 1.38MB/s]\u001b[A\n",
      "https://ciir.cs.umass.edu/downloads/Antique/antique-collection.txt: 45.7%| 42.8M/93.6M [00:30<00:36, 1.38MB/s]\u001b[A\n"
     ]
    },
    {
     "name": "stderr",
     "output_type": "stream",
     "text": [
      "https://ciir.cs.umass.edu/downloads/Antique/antique-collection.txt: 46.4%| 43.4M/93.6M [00:31<00:36, 1.38MB/s]\u001b[A\n",
      "https://ciir.cs.umass.edu/downloads/Antique/antique-collection.txt: 47.1%| 44.1M/93.6M [00:31<00:35, 1.38MB/s]\u001b[A\n",
      "https://ciir.cs.umass.edu/downloads/Antique/antique-collection.txt: 47.9%| 44.8M/93.6M [00:32<00:35, 1.38MB/s]\u001b[A\n",
      "https://ciir.cs.umass.edu/downloads/Antique/antique-collection.txt: 48.6%| 45.5M/93.6M [00:33<00:34, 1.38MB/s]\u001b[A\n",
      "https://ciir.cs.umass.edu/downloads/Antique/antique-collection.txt: 49.3%| 46.2M/93.6M [00:33<00:34, 1.38MB/s]\u001b[A\n",
      "https://ciir.cs.umass.edu/downloads/Antique/antique-collection.txt: 50.1%| 46.9M/93.6M [00:34<00:33, 1.38MB/s]\u001b[A\n",
      "https://ciir.cs.umass.edu/downloads/Antique/antique-collection.txt: 50.8%| 47.6M/93.6M [00:34<00:33, 1.38MB/s]\u001b[A\n",
      "https://ciir.cs.umass.edu/downloads/Antique/antique-collection.txt: 51.6%| 48.3M/93.6M [00:34<00:32, 1.38MB/s]\u001b[A\n",
      "https://ciir.cs.umass.edu/downloads/Antique/antique-collection.txt: 52.3%| 48.9M/93.6M [00:35<00:32, 1.38MB/s]\u001b[A\n",
      "https://ciir.cs.umass.edu/downloads/Antique/antique-collection.txt: 53.0%| 49.6M/93.6M [00:35<00:31, 1.38MB/s]\u001b[A\n",
      "https://ciir.cs.umass.edu/downloads/Antique/antique-collection.txt: 53.8%| 50.3M/93.6M [00:36<00:31, 1.38MB/s]\u001b[A\n",
      "https://ciir.cs.umass.edu/downloads/Antique/antique-collection.txt: 54.5%| 51.0M/93.6M [00:36<00:30, 1.38MB/s]\u001b[A\n",
      "https://ciir.cs.umass.edu/downloads/Antique/antique-collection.txt: 55.2%| 51.7M/93.6M [00:37<00:30, 1.38MB/s]\u001b[A\n",
      "https://ciir.cs.umass.edu/downloads/Antique/antique-collection.txt: 56.0%| 52.4M/93.6M [00:37<00:29, 1.39MB/s]\u001b[A\n",
      "https://ciir.cs.umass.edu/downloads/Antique/antique-collection.txt: 56.7%| 53.1M/93.6M [00:38<00:29, 1.39MB/s]\u001b[A\n",
      "https://ciir.cs.umass.edu/downloads/Antique/antique-collection.txt: 57.4%| 53.8M/93.6M [00:38<00:28, 1.39MB/s]\u001b[A\n",
      "https://ciir.cs.umass.edu/downloads/Antique/antique-collection.txt: 58.2%| 54.5M/93.6M [00:39<00:28, 1.39MB/s]\u001b[A\n",
      "https://ciir.cs.umass.edu/downloads/Antique/antique-collection.txt: 58.9%| 55.1M/93.6M [00:39<00:27, 1.39MB/s]\u001b[A\n",
      "https://ciir.cs.umass.edu/downloads/Antique/antique-collection.txt: 59.6%| 55.8M/93.6M [00:39<00:27, 1.40MB/s]\u001b[A\n",
      "https://ciir.cs.umass.edu/downloads/Antique/antique-collection.txt: 60.4%| 56.5M/93.6M [00:40<00:26, 1.40MB/s]\u001b[A\n",
      "https://ciir.cs.umass.edu/downloads/Antique/antique-collection.txt: 61.1%| 57.2M/93.6M [00:40<00:25, 1.40MB/s]\u001b[A\n",
      "https://ciir.cs.umass.edu/downloads/Antique/antique-collection.txt: 61.8%| 57.9M/93.6M [00:41<00:25, 1.40MB/s]\u001b[A\n",
      "https://ciir.cs.umass.edu/downloads/Antique/antique-collection.txt: 62.6%| 58.6M/93.6M [00:41<00:24, 1.41MB/s]\u001b[A\n",
      "https://ciir.cs.umass.edu/downloads/Antique/antique-collection.txt: 63.3%| 59.3M/93.6M [00:42<00:24, 1.41MB/s]\u001b[A\n",
      "https://ciir.cs.umass.edu/downloads/Antique/antique-collection.txt: 64.1%| 60.0M/93.6M [00:42<00:23, 1.41MB/s]\u001b[A\n",
      "https://ciir.cs.umass.edu/downloads/Antique/antique-collection.txt: 64.8%| 60.6M/93.6M [00:43<00:23, 1.41MB/s]\u001b[A\n",
      "https://ciir.cs.umass.edu/downloads/Antique/antique-collection.txt: 65.5%| 61.3M/93.6M [00:43<00:22, 1.41MB/s]\u001b[A\n",
      "https://ciir.cs.umass.edu/downloads/Antique/antique-collection.txt: 66.3%| 62.0M/93.6M [00:43<00:22, 1.41MB/s]\u001b[A\n",
      "https://ciir.cs.umass.edu/downloads/Antique/antique-collection.txt: 67.0%| 62.7M/93.6M [00:44<00:21, 1.41MB/s]\u001b[A\n",
      "https://ciir.cs.umass.edu/downloads/Antique/antique-collection.txt: 67.7%| 63.4M/93.6M [00:44<00:21, 1.42MB/s]\u001b[A\n",
      "https://ciir.cs.umass.edu/downloads/Antique/antique-collection.txt: 68.5%| 64.1M/93.6M [00:45<00:20, 1.41MB/s]\u001b[A\n",
      "https://ciir.cs.umass.edu/downloads/Antique/antique-collection.txt: 69.2%| 64.8M/93.6M [00:46<00:20, 1.40MB/s]\u001b[A\n",
      "https://ciir.cs.umass.edu/downloads/Antique/antique-collection.txt: 69.9%| 65.5M/93.6M [00:46<00:20, 1.40MB/s]\u001b[A\n",
      "https://ciir.cs.umass.edu/downloads/Antique/antique-collection.txt: 70.7%| 66.2M/93.6M [00:47<00:19, 1.39MB/s]\u001b[A\n",
      "https://ciir.cs.umass.edu/downloads/Antique/antique-collection.txt: 71.4%| 66.8M/93.6M [00:48<00:19, 1.39MB/s]\u001b[A\n",
      "https://ciir.cs.umass.edu/downloads/Antique/antique-collection.txt: 72.1%| 67.5M/93.6M [00:48<00:18, 1.38MB/s]\u001b[A\n",
      "https://ciir.cs.umass.edu/downloads/Antique/antique-collection.txt: 72.9%| 68.2M/93.6M [00:49<00:18, 1.38MB/s]\u001b[A\n",
      "https://ciir.cs.umass.edu/downloads/Antique/antique-collection.txt: 73.6%| 68.9M/93.6M [00:49<00:17, 1.38MB/s]\u001b[A\n",
      "https://ciir.cs.umass.edu/downloads/Antique/antique-collection.txt: 74.3%| 69.6M/93.6M [00:50<00:17, 1.38MB/s]\u001b[A\n",
      "https://ciir.cs.umass.edu/downloads/Antique/antique-collection.txt: 75.1%| 70.3M/93.6M [00:51<00:16, 1.38MB/s]\u001b[A\n",
      "https://ciir.cs.umass.edu/downloads/Antique/antique-collection.txt: 75.8%| 71.0M/93.6M [00:51<00:16, 1.38MB/s]\u001b[A\n",
      "https://ciir.cs.umass.edu/downloads/Antique/antique-collection.txt: 76.5%| 71.7M/93.6M [00:52<00:15, 1.38MB/s]\u001b[A\n",
      "https://ciir.cs.umass.edu/downloads/Antique/antique-collection.txt: 77.3%| 72.3M/93.6M [00:52<00:15, 1.37MB/s]\u001b[A\n",
      "https://ciir.cs.umass.edu/downloads/Antique/antique-collection.txt: 78.0%| 73.0M/93.6M [00:53<00:14, 1.37MB/s]\u001b[A\n",
      "https://ciir.cs.umass.edu/downloads/Antique/antique-collection.txt: 78.8%| 73.7M/93.6M [00:53<00:14, 1.37MB/s]\u001b[A\n",
      "https://ciir.cs.umass.edu/downloads/Antique/antique-collection.txt: 79.5%| 74.4M/93.6M [00:54<00:14, 1.37MB/s]\u001b[A\n",
      "https://ciir.cs.umass.edu/downloads/Antique/antique-collection.txt: 80.2%| 75.1M/93.6M [00:54<00:13, 1.37MB/s]\u001b[A\n",
      "https://ciir.cs.umass.edu/downloads/Antique/antique-collection.txt: 81.0%| 75.8M/93.6M [00:55<00:12, 1.37MB/s]\u001b[A\n",
      "https://ciir.cs.umass.edu/downloads/Antique/antique-collection.txt: 81.7%| 76.5M/93.6M [00:55<00:12, 1.37MB/s]\u001b[A\n",
      "https://ciir.cs.umass.edu/downloads/Antique/antique-collection.txt: 82.4%| 77.2M/93.6M [00:56<00:11, 1.37MB/s]\u001b[A\n",
      "https://ciir.cs.umass.edu/downloads/Antique/antique-collection.txt: 83.2%| 77.8M/93.6M [00:56<00:11, 1.37MB/s]\u001b[A\n",
      "https://ciir.cs.umass.edu/downloads/Antique/antique-collection.txt: 83.9%| 78.5M/93.6M [00:57<00:10, 1.37MB/s]\u001b[A\n",
      "https://ciir.cs.umass.edu/downloads/Antique/antique-collection.txt: 84.6%| 79.2M/93.6M [00:57<00:10, 1.37MB/s]\u001b[A\n",
      "https://ciir.cs.umass.edu/downloads/Antique/antique-collection.txt: 85.4%| 79.9M/93.6M [00:58<00:09, 1.37MB/s]\u001b[A\n",
      "https://ciir.cs.umass.edu/downloads/Antique/antique-collection.txt: 86.1%| 80.6M/93.6M [00:58<00:09, 1.37MB/s]\u001b[A\n",
      "https://ciir.cs.umass.edu/downloads/Antique/antique-collection.txt: 86.8%| 81.3M/93.6M [00:59<00:08, 1.37MB/s]\u001b[A\n",
      "https://ciir.cs.umass.edu/downloads/Antique/antique-collection.txt: 87.6%| 82.0M/93.6M [00:59<00:08, 1.37MB/s]\u001b[A\n",
      "https://ciir.cs.umass.edu/downloads/Antique/antique-collection.txt: 88.3%| 82.7M/93.6M [01:00<00:08, 1.37MB/s]\u001b[A\n",
      "https://ciir.cs.umass.edu/downloads/Antique/antique-collection.txt: 89.0%| 83.4M/93.6M [01:00<00:07, 1.37MB/s]\u001b[A\n",
      "https://ciir.cs.umass.edu/downloads/Antique/antique-collection.txt: 89.8%| 84.0M/93.6M [01:01<00:06, 1.37MB/s]\u001b[A\n",
      "https://ciir.cs.umass.edu/downloads/Antique/antique-collection.txt: 90.5%| 84.7M/93.6M [01:01<00:06, 1.37MB/s]\u001b[A\n",
      "https://ciir.cs.umass.edu/downloads/Antique/antique-collection.txt: 91.3%| 85.4M/93.6M [01:02<00:05, 1.37MB/s]\u001b[A\n",
      "https://ciir.cs.umass.edu/downloads/Antique/antique-collection.txt: 92.0%| 86.1M/93.6M [01:03<00:05, 1.36MB/s]\u001b[A\n",
      "https://ciir.cs.umass.edu/downloads/Antique/antique-collection.txt: 92.7%| 86.8M/93.6M [01:04<00:05, 1.35MB/s]\u001b[A\n",
      "https://ciir.cs.umass.edu/downloads/Antique/antique-collection.txt: 93.5%| 87.5M/93.6M [01:05<00:04, 1.34MB/s]\u001b[A\n",
      "https://ciir.cs.umass.edu/downloads/Antique/antique-collection.txt: 94.2%| 88.2M/93.6M [01:06<00:04, 1.33MB/s]\u001b[A\n",
      "https://ciir.cs.umass.edu/downloads/Antique/antique-collection.txt: 94.9%| 88.9M/93.6M [01:06<00:03, 1.33MB/s]\u001b[A\n",
      "https://ciir.cs.umass.edu/downloads/Antique/antique-collection.txt: 95.7%| 89.5M/93.6M [01:07<00:03, 1.32MB/s]\u001b[A\n",
      "https://ciir.cs.umass.edu/downloads/Antique/antique-collection.txt: 96.4%| 90.2M/93.6M [01:08<00:02, 1.31MB/s]\u001b[A\n",
      "https://ciir.cs.umass.edu/downloads/Antique/antique-collection.txt: 97.1%| 90.9M/93.6M [01:09<00:02, 1.31MB/s]\u001b[A\n",
      "https://ciir.cs.umass.edu/downloads/Antique/antique-collection.txt: 97.9%| 91.6M/93.6M [01:10<00:01, 1.30MB/s]\u001b[A\n"
     ]
    },
    {
     "name": "stderr",
     "output_type": "stream",
     "text": [
      "https://ciir.cs.umass.edu/downloads/Antique/antique-collection.txt: 98.6%| 92.3M/93.6M [01:11<00:01, 1.29MB/s]\u001b[A\n",
      "https://ciir.cs.umass.edu/downloads/Antique/antique-collection.txt: 99.3%| 93.0M/93.6M [01:13<00:00, 1.27MB/s]\u001b[A\n",
      "\u001b[A                                                                                                           [INFO] [finished] https://ciir.cs.umass.edu/downloads/Antique/antique-collection.txt: [01:14] [93.6MB] [1.26MB/s]\n",
      "\n",
      "https://ciir.cs.umass.edu/downloads/Antique/antique-collection.txt: [01:14] [93.6MB] [1.26MB/s]\u001b[A\n",
      "                                                                                               \u001b[A"
     ]
    },
    {
     "name": "stdout",
     "output_type": "stream",
     "text": [
      "{'docno': '2020338_0',\n",
      " 'text': 'A small group of politicians believed strongly that the fact that '\n",
      "         'Saddam Hussien remained in power after the first Gulf War was a '\n",
      "         'signal of weakness to the rest of the world, one that invited '\n",
      "         'attacks and terrorism. Shortly after taking power with George Bush '\n",
      "         'in 2000 and after the attack on 9/11, they were able to use the '\n",
      "         'terrorist attacks to justify war with Iraq on this basis and '\n",
      "         'exaggerated threats of the development of weapons of mass '\n",
      "         'destruction. The military strength of the U.S. and the brutality of '\n",
      "         \"Saddam's regime led them to imagine that the military and political \"\n",
      "         'victory would be relatively easy.'}\n"
     ]
    }
   ],
   "source": [
    "from pprint import pprint\n",
    "\n",
    "for doc in dataset.get_corpus_iter():\n",
    "    pprint(doc)\n",
    "    break"
   ]
  },
  {
   "cell_type": "markdown",
   "metadata": {},
   "source": [
    "If you see a document above now: Congratulations! The setup was successful. If not: Take a look at the [troubleshooting section](https://pyterrier.readthedocs.io/en/latest/installation.html#installation-troubleshooting) in the official documentation."
   ]
  },
  {
   "cell_type": "code",
   "execution_count": null,
   "metadata": {},
   "outputs": [],
   "source": []
  }
 ],
 "metadata": {
  "kernelspec": {
   "display_name": "Python 3",
   "language": "python",
   "name": "python3"
  },
  "language_info": {
   "codemirror_mode": {
    "name": "ipython",
    "version": 3
   },
   "file_extension": ".py",
   "mimetype": "text/x-python",
   "name": "python",
   "nbconvert_exporter": "python",
   "pygments_lexer": "ipython3",
   "version": "3.8.10"
  }
 },
 "nbformat": 4,
 "nbformat_minor": 2
}
