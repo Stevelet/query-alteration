{
 "cells": [
  {
   "cell_type": "markdown",
   "metadata": {},
   "source": [
    "# Introduction to PyTerrier\n",
    "__Part 1: Setup__\n",
    "\n",
    "[Terrier](http://terrier.org) is an open-source information retrieval platform aimed at reserach and experimentation. We'll use [PyTerrier](https://pyterrier.readthedocs.io/), which provides a Python API for Terrier, in this lecture. This series of notebooks gives a brief introduction to PyTerrier.\n",
    "\n",
    "## Installation\n",
    "PyTerrier can be installed using `pip`:"
   ]
  },
  {
   "cell_type": "code",
   "execution_count": 1,
   "metadata": {
    "vscode": {
     "languageId": "shellscript"
    }
   },
   "outputs": [
    {
     "name": "stdout",
     "output_type": "stream",
     "text": [
      "Requirement already satisfied: python-terrier in /home/steve/.local/lib/python3.8/site-packages (0.10.0)\n",
      "Requirement already satisfied: ir-datasets>=0.3.2 in /home/steve/.local/lib/python3.8/site-packages (from python-terrier) (0.5.6)\n",
      "Requirement already satisfied: tqdm in /home/steve/.local/lib/python3.8/site-packages (from python-terrier) (4.66.2)\n",
      "Requirement already satisfied: more-itertools in /usr/lib/python3/dist-packages (from python-terrier) (4.2.0)\n",
      "Requirement already satisfied: ir-measures>=0.3.1 in /home/steve/.local/lib/python3.8/site-packages (from python-terrier) (0.3.3)\n",
      "Requirement already satisfied: jinja2 in /home/steve/.local/lib/python3.8/site-packages (from python-terrier) (3.1.3)\n",
      "Requirement already satisfied: pytrec-eval-terrier>=0.5.3 in /home/steve/.local/lib/python3.8/site-packages (from python-terrier) (0.5.6)\n",
      "Requirement already satisfied: scikit-learn in /home/steve/.local/lib/python3.8/site-packages (from python-terrier) (1.3.2)\n",
      "Requirement already satisfied: matchpy in /home/steve/.local/lib/python3.8/site-packages (from python-terrier) (0.5.5)\n",
      "Requirement already satisfied: pandas in /home/steve/.local/lib/python3.8/site-packages (from python-terrier) (2.0.3)\n",
      "Requirement already satisfied: nptyping==1.4.4 in /home/steve/.local/lib/python3.8/site-packages (from python-terrier) (1.4.4)\n",
      "Requirement already satisfied: chest in /home/steve/.local/lib/python3.8/site-packages (from python-terrier) (0.2.3)\n",
      "Requirement already satisfied: scipy in /home/steve/.local/lib/python3.8/site-packages (from python-terrier) (1.10.1)\n",
      "Requirement already satisfied: numpy in /home/steve/.local/lib/python3.8/site-packages (from python-terrier) (1.24.4)\n",
      "Requirement already satisfied: dill in /home/steve/.local/lib/python3.8/site-packages (from python-terrier) (0.3.8)\n",
      "Requirement already satisfied: requests in /home/steve/.local/lib/python3.8/site-packages (from python-terrier) (2.31.0)\n",
      "Requirement already satisfied: joblib in /home/steve/.local/lib/python3.8/site-packages (from python-terrier) (1.3.2)\n",
      "Requirement already satisfied: deprecated in /usr/lib/python3/dist-packages (from python-terrier) (1.2.7)\n",
      "Requirement already satisfied: statsmodels in /home/steve/.local/lib/python3.8/site-packages (from python-terrier) (0.14.1)\n",
      "Requirement already satisfied: pyjnius>=1.4.2 in /home/steve/.local/lib/python3.8/site-packages (from python-terrier) (1.6.1)\n",
      "Requirement already satisfied: wget in /home/steve/.local/lib/python3.8/site-packages (from python-terrier) (3.2)\n",
      "Requirement already satisfied: ijson>=3.1.3 in /home/steve/.local/lib/python3.8/site-packages (from ir-datasets>=0.3.2->python-terrier) (3.2.3)\n",
      "Requirement already satisfied: zlib-state>=0.1.3 in /home/steve/.local/lib/python3.8/site-packages (from ir-datasets>=0.3.2->python-terrier) (0.1.6)\n",
      "Requirement already satisfied: unlzw3>=0.2.1 in /home/steve/.local/lib/python3.8/site-packages (from ir-datasets>=0.3.2->python-terrier) (0.2.2)\n",
      "Requirement already satisfied: warc3-wet>=0.2.3 in /home/steve/.local/lib/python3.8/site-packages (from ir-datasets>=0.3.2->python-terrier) (0.2.3)\n",
      "Requirement already satisfied: inscriptis>=2.2.0 in /home/steve/.local/lib/python3.8/site-packages (from ir-datasets>=0.3.2->python-terrier) (2.4.0.1)\n",
      "Requirement already satisfied: warc3-wet-clueweb09>=0.2.5 in /home/steve/.local/lib/python3.8/site-packages (from ir-datasets>=0.3.2->python-terrier) (0.2.5)\n",
      "Requirement already satisfied: lxml>=4.5.2 in /home/steve/.local/lib/python3.8/site-packages (from ir-datasets>=0.3.2->python-terrier) (5.1.0)\n",
      "Requirement already satisfied: pyyaml>=5.3.1 in /usr/lib/python3/dist-packages (from ir-datasets>=0.3.2->python-terrier) (5.3.1)\n",
      "Requirement already satisfied: trec-car-tools>=2.5.4 in /home/steve/.local/lib/python3.8/site-packages (from ir-datasets>=0.3.2->python-terrier) (2.6)\n",
      "Requirement already satisfied: beautifulsoup4>=4.4.1 in /home/steve/.local/lib/python3.8/site-packages (from ir-datasets>=0.3.2->python-terrier) (4.12.3)\n",
      "Requirement already satisfied: pyautocorpus>=0.1.1 in /home/steve/.local/lib/python3.8/site-packages (from ir-datasets>=0.3.2->python-terrier) (0.1.12)\n",
      "Requirement already satisfied: lz4>=3.1.10 in /home/steve/.local/lib/python3.8/site-packages (from ir-datasets>=0.3.2->python-terrier) (4.3.3)\n",
      "Requirement already satisfied: cwl-eval>=1.0.10 in /home/steve/.local/lib/python3.8/site-packages (from ir-measures>=0.3.1->python-terrier) (1.0.12)\n",
      "Requirement already satisfied: MarkupSafe>=2.0 in /home/steve/.local/lib/python3.8/site-packages (from jinja2->python-terrier) (2.1.5)\n",
      "Requirement already satisfied: threadpoolctl>=2.0.0 in /home/steve/.local/lib/python3.8/site-packages (from scikit-learn->python-terrier) (3.3.0)\n",
      "Requirement already satisfied: multiset<3.0,>=2.0 in /home/steve/.local/lib/python3.8/site-packages (from matchpy->python-terrier) (2.1.1)\n",
      "Requirement already satisfied: python-dateutil>=2.8.2 in /home/steve/.local/lib/python3.8/site-packages (from pandas->python-terrier) (2.8.2)\n",
      "Requirement already satisfied: pytz>=2020.1 in /home/steve/.local/lib/python3.8/site-packages (from pandas->python-terrier) (2024.1)\n",
      "Requirement already satisfied: tzdata>=2022.1 in /home/steve/.local/lib/python3.8/site-packages (from pandas->python-terrier) (2024.1)\n",
      "Requirement already satisfied: typish>=1.7.0 in /home/steve/.local/lib/python3.8/site-packages (from nptyping==1.4.4->python-terrier) (1.9.3)\n",
      "Requirement already satisfied: heapdict in /home/steve/.local/lib/python3.8/site-packages (from chest->python-terrier) (1.0.1)\n",
      "Requirement already satisfied: urllib3<3,>=1.21.1 in /usr/lib/python3/dist-packages (from requests->python-terrier) (1.25.8)\n",
      "Requirement already satisfied: certifi>=2017.4.17 in /usr/lib/python3/dist-packages (from requests->python-terrier) (2019.11.28)\n",
      "Requirement already satisfied: idna<4,>=2.5 in /usr/lib/python3/dist-packages (from requests->python-terrier) (2.8)\n",
      "Requirement already satisfied: charset-normalizer<4,>=2 in /home/steve/.local/lib/python3.8/site-packages (from requests->python-terrier) (3.3.2)\n",
      "Requirement already satisfied: patsy>=0.5.4 in /home/steve/.local/lib/python3.8/site-packages (from statsmodels->python-terrier) (0.5.6)\n",
      "Requirement already satisfied: packaging>=21.3 in /home/steve/.local/lib/python3.8/site-packages (from statsmodels->python-terrier) (23.2)\n",
      "Requirement already satisfied: cbor>=1.0.0 in /home/steve/.local/lib/python3.8/site-packages (from trec-car-tools>=2.5.4->ir-datasets>=0.3.2->python-terrier) (1.0.0)\n",
      "Requirement already satisfied: soupsieve>1.2 in /home/steve/.local/lib/python3.8/site-packages (from beautifulsoup4>=4.4.1->ir-datasets>=0.3.2->python-terrier) (2.5)\n",
      "Requirement already satisfied: six>=1.5 in /usr/lib/python3/dist-packages (from python-dateutil>=2.8.2->pandas->python-terrier) (1.14.0)\n",
      "Note: you may need to restart the kernel to use updated packages.\n"
     ]
    }
   ],
   "source": [
    "pip install python-terrier"
   ]
  },
  {
   "cell_type": "markdown",
   "metadata": {},
   "source": [
    "You may want to consider using virtual environments, such as [`venv`](https://docs.python.org/3/library/venv.html) or [`conda`](https://www.anaconda.com/download). You'll also need an up-to-date version of the [Java development kit](https://www.oracle.com/java/technologies/downloads/) installed and the `JAVA_HOME` environment variable set. More detailed installation instructions and troubleshooting can be found [here](https://pyterrier.readthedocs.io/en/latest/installation.html).\n",
    "\n",
    "Now you should be able to import `pyterrier`:"
   ]
  },
  {
   "cell_type": "code",
   "execution_count": 2,
   "metadata": {},
   "outputs": [],
   "source": [
    "import pyterrier as pt"
   ]
  },
  {
   "cell_type": "markdown",
   "metadata": {},
   "source": [
    "## Configuration\n",
    "As PyTerrier uses Terrier under the hood, we need to initially load the corresponding Java package. In addition, we can set PyTerrier up to show progress bars in Jupyter notebooks correctly:"
   ]
  },
  {
   "cell_type": "code",
   "execution_count": 3,
   "metadata": {},
   "outputs": [
    {
     "ename": "RuntimeError",
     "evalue": "\n        Unable to find libjvm.so, (tried ['/usr/lib/jvm/java-11-openjdk-amd64/bin/java/lib/server/libjvm.so', '/usr/lib/jvm/java-11-openjdk-amd64/bin/java/jre/lib/amd64/default/libjvm.so', '/usr/lib/jvm/java-11-openjdk-amd64/bin/java/jre/lib/amd64/server/libjvm.so'])\n        you can use the JVM_PATH env variable with the absolute path\n        to libjvm.so to override this lookup, if you know\n        where pyjnius should look for it.\n\n        e.g:\n            export JAVA_HOME=/usr/lib/jvm/java-8-oracle/\n            export JVM_PATH=/usr/lib/jvm/java-8-oracle/jre/lib/amd64/server/libjvm.so\n            # run your program\n        ",
     "output_type": "error",
     "traceback": [
      "\u001b[0;31m---------------------------------------------------------------------------\u001b[0m",
      "\u001b[0;31mRuntimeError\u001b[0m                              Traceback (most recent call last)",
      "\u001b[0;32m<ipython-input-3-58ac9bda7399>\u001b[0m in \u001b[0;36m<module>\u001b[0;34m\u001b[0m\n\u001b[1;32m      1\u001b[0m \u001b[0;32mif\u001b[0m \u001b[0;32mnot\u001b[0m \u001b[0mpt\u001b[0m\u001b[0;34m.\u001b[0m\u001b[0mstarted\u001b[0m\u001b[0;34m(\u001b[0m\u001b[0;34m)\u001b[0m\u001b[0;34m:\u001b[0m\u001b[0;34m\u001b[0m\u001b[0;34m\u001b[0m\u001b[0m\n\u001b[0;32m----> 2\u001b[0;31m     \u001b[0mpt\u001b[0m\u001b[0;34m.\u001b[0m\u001b[0minit\u001b[0m\u001b[0;34m(\u001b[0m\u001b[0mtqdm\u001b[0m\u001b[0;34m=\u001b[0m\u001b[0;34m\"notebook\"\u001b[0m\u001b[0;34m)\u001b[0m\u001b[0;34m\u001b[0m\u001b[0;34m\u001b[0m\u001b[0m\n\u001b[0m",
      "\u001b[0;32m~/.local/lib/python3.8/site-packages/pyterrier/__init__.py\u001b[0m in \u001b[0;36minit\u001b[0;34m(version, mem, packages, jvm_opts, redirect_io, logging, home_dir, boot_packages, tqdm, no_download, helper_version)\u001b[0m\n\u001b[1;32m    126\u001b[0m     \u001b[0;32mif\u001b[0m \u001b[0mmem\u001b[0m \u001b[0;32mis\u001b[0m \u001b[0;32mnot\u001b[0m \u001b[0;32mNone\u001b[0m\u001b[0;34m:\u001b[0m\u001b[0;34m\u001b[0m\u001b[0;34m\u001b[0m\u001b[0m\n\u001b[1;32m    127\u001b[0m         \u001b[0mjnius_config\u001b[0m\u001b[0;34m.\u001b[0m\u001b[0madd_options\u001b[0m\u001b[0;34m(\u001b[0m\u001b[0;34m'-Xmx'\u001b[0m \u001b[0;34m+\u001b[0m \u001b[0mstr\u001b[0m\u001b[0;34m(\u001b[0m\u001b[0mmem\u001b[0m\u001b[0;34m)\u001b[0m \u001b[0;34m+\u001b[0m \u001b[0;34m'm'\u001b[0m\u001b[0;34m)\u001b[0m\u001b[0;34m\u001b[0m\u001b[0;34m\u001b[0m\u001b[0m\n\u001b[0;32m--> 128\u001b[0;31m     \u001b[0;32mfrom\u001b[0m \u001b[0mjnius\u001b[0m \u001b[0;32mimport\u001b[0m \u001b[0mautoclass\u001b[0m\u001b[0;34m,\u001b[0m \u001b[0mcast\u001b[0m\u001b[0;34m\u001b[0m\u001b[0;34m\u001b[0m\u001b[0m\n\u001b[0m\u001b[1;32m    129\u001b[0m \u001b[0;34m\u001b[0m\u001b[0m\n\u001b[1;32m    130\u001b[0m     \u001b[0;31m# we only accept Java version 11 and newer; so anything starting 1. or 9. is too old\u001b[0m\u001b[0;34m\u001b[0m\u001b[0;34m\u001b[0m\u001b[0;34m\u001b[0m\u001b[0m\n",
      "\u001b[0;32m~/.local/lib/python3.8/site-packages/jnius/__init__.py\u001b[0m in \u001b[0;36m<module>\u001b[0;34m\u001b[0m\n\u001b[1;32m     43\u001b[0m \u001b[0;32melse\u001b[0m\u001b[0;34m:\u001b[0m\u001b[0;34m\u001b[0m\u001b[0;34m\u001b[0m\u001b[0m\n\u001b[1;32m     44\u001b[0m     \u001b[0;32mfrom\u001b[0m \u001b[0;34m.\u001b[0m\u001b[0mjnius\u001b[0m \u001b[0;32mimport\u001b[0m \u001b[0;34m*\u001b[0m  \u001b[0;31m# noqa\u001b[0m\u001b[0;34m\u001b[0m\u001b[0;34m\u001b[0m\u001b[0m\n\u001b[0;32m---> 45\u001b[0;31m     \u001b[0;32mfrom\u001b[0m \u001b[0;34m.\u001b[0m\u001b[0mreflect\u001b[0m \u001b[0;32mimport\u001b[0m \u001b[0;34m*\u001b[0m  \u001b[0;31m# noqa\u001b[0m\u001b[0;34m\u001b[0m\u001b[0;34m\u001b[0m\u001b[0m\n\u001b[0m\u001b[1;32m     46\u001b[0m \u001b[0;34m\u001b[0m\u001b[0m\n\u001b[1;32m     47\u001b[0m \u001b[0;31m# XXX monkey patch methods that cannot be in cython.\u001b[0m\u001b[0;34m\u001b[0m\u001b[0;34m\u001b[0m\u001b[0;34m\u001b[0m\u001b[0m\n",
      "\u001b[0;32m~/.local/lib/python3.8/site-packages/jnius/reflect.py\u001b[0m in \u001b[0;36m<module>\u001b[0;34m\u001b[0m\n\u001b[1;32m     17\u001b[0m \u001b[0;34m\u001b[0m\u001b[0m\n\u001b[1;32m     18\u001b[0m \u001b[0;34m\u001b[0m\u001b[0m\n\u001b[0;32m---> 19\u001b[0;31m \u001b[0;32mclass\u001b[0m \u001b[0mClass\u001b[0m\u001b[0;34m(\u001b[0m\u001b[0mJavaClass\u001b[0m\u001b[0;34m,\u001b[0m \u001b[0mmetaclass\u001b[0m\u001b[0;34m=\u001b[0m\u001b[0mMetaJavaClass\u001b[0m\u001b[0;34m)\u001b[0m\u001b[0;34m:\u001b[0m\u001b[0;34m\u001b[0m\u001b[0;34m\u001b[0m\u001b[0m\n\u001b[0m\u001b[1;32m     20\u001b[0m     \u001b[0m__javaclass__\u001b[0m \u001b[0;34m=\u001b[0m \u001b[0;34m'java/lang/Class'\u001b[0m\u001b[0;34m\u001b[0m\u001b[0;34m\u001b[0m\u001b[0m\n\u001b[1;32m     21\u001b[0m \u001b[0;34m\u001b[0m\u001b[0m\n",
      "\u001b[0;32mjnius/jnius_export_class.pxi\u001b[0m in \u001b[0;36mjnius.MetaJavaClass.__new__\u001b[0;34m()\u001b[0m\n",
      "\u001b[0;32mjnius/jnius_export_class.pxi\u001b[0m in \u001b[0;36mjnius.MetaJavaClass.resolve_class\u001b[0;34m()\u001b[0m\n",
      "\u001b[0;32mjnius/jnius_env.pxi\u001b[0m in \u001b[0;36mjnius.get_jnienv\u001b[0;34m()\u001b[0m\n",
      "\u001b[0;32mjnius/jnius_jvm_dlopen.pxi\u001b[0m in \u001b[0;36mjnius.get_platform_jnienv\u001b[0;34m()\u001b[0m\n",
      "\u001b[0;32mjnius/jnius_jvm_dlopen.pxi\u001b[0m in \u001b[0;36mjnius.create_jnienv\u001b[0;34m()\u001b[0m\n",
      "\u001b[0;32m~/.local/lib/python3.8/site-packages/jnius/env.py\u001b[0m in \u001b[0;36mget_jnius_lib_location\u001b[0;34m(self)\u001b[0m\n\u001b[1;32m    171\u001b[0m                 \u001b[0;32mreturn\u001b[0m \u001b[0mfull_lib_location\u001b[0m\u001b[0;34m\u001b[0m\u001b[0;34m\u001b[0m\u001b[0m\n\u001b[1;32m    172\u001b[0m \u001b[0;34m\u001b[0m\u001b[0m\n\u001b[0;32m--> 173\u001b[0;31m         raise RuntimeError(\n\u001b[0m\u001b[1;32m    174\u001b[0m         \"\"\"\n\u001b[1;32m    175\u001b[0m         \u001b[0mUnable\u001b[0m \u001b[0mto\u001b[0m \u001b[0mfind\u001b[0m \u001b[0mlibjvm\u001b[0m\u001b[0;34m.\u001b[0m\u001b[0mso\u001b[0m\u001b[0;34m,\u001b[0m \u001b[0;34m(\u001b[0m\u001b[0mtried\u001b[0m \u001b[0;34m%\u001b[0m\u001b[0ms\u001b[0m\u001b[0;34m)\u001b[0m\u001b[0;34m\u001b[0m\u001b[0;34m\u001b[0m\u001b[0m\n",
      "\u001b[0;31mRuntimeError\u001b[0m: \n        Unable to find libjvm.so, (tried ['/usr/lib/jvm/java-11-openjdk-amd64/bin/java/lib/server/libjvm.so', '/usr/lib/jvm/java-11-openjdk-amd64/bin/java/jre/lib/amd64/default/libjvm.so', '/usr/lib/jvm/java-11-openjdk-amd64/bin/java/jre/lib/amd64/server/libjvm.so'])\n        you can use the JVM_PATH env variable with the absolute path\n        to libjvm.so to override this lookup, if you know\n        where pyjnius should look for it.\n\n        e.g:\n            export JAVA_HOME=/usr/lib/jvm/java-8-oracle/\n            export JVM_PATH=/usr/lib/jvm/java-8-oracle/jre/lib/amd64/server/libjvm.so\n            # run your program\n        "
     ]
    }
   ],
   "source": [
    "if not pt.started():\n",
    "    pt.init(tqdm=\"notebook\")"
   ]
  },
  {
   "cell_type": "markdown",
   "metadata": {},
   "source": [
    "## A test run\n",
    "Time to test our setup! PyTerrier provides support for loading and indexing a large number of IR datasets (more on that later). Let's load the [ANTIQUE](https://arxiv.org/abs/1905.08957) dataset:"
   ]
  },
  {
   "cell_type": "code",
   "execution_count": null,
   "metadata": {},
   "outputs": [],
   "source": [
    "dataset = pt.get_dataset(\"irds:antique\")"
   ]
  },
  {
   "cell_type": "markdown",
   "metadata": {},
   "source": [
    "Now we can print one of the documents in the corpus:"
   ]
  },
  {
   "cell_type": "code",
   "execution_count": null,
   "metadata": {},
   "outputs": [],
   "source": [
    "from pprint import pprint\n",
    "\n",
    "for doc in dataset.get_corpus_iter():\n",
    "    pprint(doc)\n",
    "    break"
   ]
  },
  {
   "cell_type": "markdown",
   "metadata": {},
   "source": [
    "If you see a document above now: Congratulations! The setup was successful. If not: Take a look at the [troubleshooting section](https://pyterrier.readthedocs.io/en/latest/installation.html#installation-troubleshooting) in the official documentation."
   ]
  }
 ],
 "metadata": {
  "kernelspec": {
   "display_name": "Python 3",
   "language": "python",
   "name": "python3"
  },
  "language_info": {
   "codemirror_mode": {
    "name": "ipython",
    "version": 3
   },
   "file_extension": ".py",
   "mimetype": "text/x-python",
   "name": "python",
   "nbconvert_exporter": "python",
   "pygments_lexer": "ipython3",
   "version": "3.8.10"
  }
 },
 "nbformat": 4,
 "nbformat_minor": 2
}
